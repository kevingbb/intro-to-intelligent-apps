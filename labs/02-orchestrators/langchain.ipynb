{
 "cells": [
  {
   "cell_type": "code",
   "execution_count": null,
   "metadata": {},
   "outputs": [],
   "source": [
    "pip install langchain"
   ]
  },
  {
   "attachments": {},
   "cell_type": "markdown",
   "metadata": {},
   "source": [
    "Now let's do a simple example where we use Langchain to orchestrate a completion call into an Azure OpenAI service."
   ]
  },
  {
   "cell_type": "code",
   "execution_count": null,
   "metadata": {},
   "outputs": [],
   "source": [
    "from langchain.llms import AzureOpenAI\n",
    "\n",
    "API_KEY = \"KEY_GOES_HERE\"\n",
    "RESOURCE_ENDPOINT = \"AZURE_OPENAI_ENDPOINT_GOES_HERE\"\n",
    "\n",
    "openai_api_type = \"azure\"\n",
    "openai_api_key = API_KEY\n",
    "openai_api_base = RESOURCE_ENDPOINT\n",
    "openai_api_version = \"2023-03-15-preview\"\n",
    "DEPLOYMENT_ID = \"text-davinci-003\"\n",
    "\n",
    "# Create an instance of Azure OpenAI\n",
    "llm = AzureOpenAI(\n",
    "    openai_api_type = openai_api_type,\n",
    "    openai_api_version = openai_api_version,\n",
    "    openai_api_base = openai_api_base,\n",
    "    openai_api_key = openai_api_key,\n",
    "    deployment_name = DEPLOYMENT_ID\n",
    ")\n",
    "\n",
    "# Call the API\n",
    "r = llm(\"This is a test.\")\n",
    "\n",
    "# Print the response\n",
    "print(r)"
   ]
  }
 ],
 "metadata": {
  "kernelspec": {
   "display_name": "Python 3",
   "language": "python",
   "name": "python3"
  },
  "language_info": {
   "codemirror_mode": {
    "name": "ipython",
    "version": 3
   },
   "file_extension": ".py",
   "mimetype": "text/x-python",
   "name": "python",
   "nbconvert_exporter": "python",
   "pygments_lexer": "ipython3",
   "version": "3.11.4"
  },
  "orig_nbformat": 4
 },
 "nbformat": 4,
 "nbformat_minor": 2
}
