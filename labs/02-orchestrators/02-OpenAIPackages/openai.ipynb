{
 "cells": [
  {
   "cell_type": "code",
   "execution_count": null,
   "metadata": {},
   "outputs": [],
   "source": [
    "pip install openai"
   ]
  },
  {
   "attachments": {},
   "cell_type": "markdown",
   "metadata": {},
   "source": [
    "Now let's do a simple example where we find out which Deployment models are available for the Azure OpenAI API."
   ]
  },
  {
   "cell_type": "code",
   "execution_count": null,
   "metadata": {},
   "outputs": [],
   "source": [
    "import openai\n",
    "\n",
    "API_KEY = \"KEY_GOES_HERE\"\n",
    "RESOURCE_ENDPOINT = \"AZURE_OPENAI_ENDPOINT_GOES_HERE\"\n",
    "\n",
    "# Set necessary openai configuration values\n",
    "openai.api_type = \"azure\"\n",
    "openai.api_key = API_KEY\n",
    "openai.api_base = RESOURCE_ENDPOINT\n",
    "openai.api_version = \"2023-03-15-preview\"\n",
    "\n",
    "# List Deployments\n",
    "openai.Deployment.list()"
   ]
  },
  {
   "attachments": {},
   "cell_type": "markdown",
   "metadata": {},
   "source": [
    "Ok, now that we have the list of deployment models, let's try to do a Completion."
   ]
  },
  {
   "cell_type": "code",
   "execution_count": null,
   "metadata": {},
   "outputs": [],
   "source": [
    "COMPLETION_MODEL = \"text-davinci-003\"\n",
    "DEPLOYMENT_ID = \"text-davinci-003\"\n",
    "\n",
    "# Check out the following for complete details on the API:\n",
    "# https://platform.openai.com/docs/api-reference/completions/create\n",
    "r = openai.Completion.create(\n",
    "    model = COMPLETION_MODEL,\n",
    "    deployment_id = DEPLOYMENT_ID,\n",
    "    prompt = \"This is a test\",\n",
    ")\n",
    "\n",
    "# Look at the response object.\n",
    "print(r)\n",
    "\n",
    "# Print just the completion.\n",
    "print(r.choices[0].text)"
   ]
  }
 ],
 "metadata": {
  "kernelspec": {
   "display_name": "Python 3",
   "language": "python",
   "name": "python3"
  },
  "language_info": {
   "codemirror_mode": {
    "name": "ipython",
    "version": 3
   },
   "file_extension": ".py",
   "mimetype": "text/x-python",
   "name": "python",
   "nbconvert_exporter": "python",
   "pygments_lexer": "ipython3",
   "version": "3.11.4"
  },
  "orig_nbformat": 4
 },
 "nbformat": 4,
 "nbformat_minor": 2
}
