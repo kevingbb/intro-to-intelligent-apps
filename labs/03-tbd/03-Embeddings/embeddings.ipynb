{
 "cells": [
  {
   "attachments": {},
   "cell_type": "markdown",
   "metadata": {},
   "source": [
    "# 02 Embeddings, Memories and Vectors\n",
    "\n",
    "**WIP**\n",
    "\n",
    "Literally embedding data into a model.\n",
    "\n",
    "Historically, applications would embed data into the apps to enable search etc., so that's why it's known as embedding.\n",
    "\n",
    "Create an embedding using a model. Pass data to OpenAI, data is returned as vectors\n",
    "\n",
    "Vectors?\n",
    "\n",
    "Memories?\n",
    "\n",
    "The right approach is semantic search based on embedding vectors, which we compare against each other using cosine similarity to find a \"fact\" for a given specific question. See the example with a detailed description below.\n",
    "\n",
    "An embedding is a vector of numbers that helps us understand how semantically similar or different the texts are. The closer two embeddings are to each other, the more similar their contents are\n",
    "\n",
    "There are two things we need to understand at this point:\n",
    "\n",
    "Why do we need to transform text into an embedding vector (i.e., numbers)? Later on, we can compare embedding vectors and figure out how similar the two texts are. We can't compare texts as such.\n",
    "Why are there exactly 1536 numbers inside the embedding vector? Because the text-embedding-ada-002 model has an output dimension of 1536. It's pre-defined.\n",
    "\n",
    "There are two things we need to understand at this point:\n",
    "\n",
    "Why do we need to transform text into an embedding vector (i.e., numbers)? Later on, we can compare embedding vectors and figure out how similar the two texts are. We can't compare texts as such.\n",
    "Why are there exactly 1536 numbers inside the embedding vector? Because the text-embedding-ada-002 model has an output dimension of 1536. It's pre-defined.\n",
    "\n",
    "Embedding vs. Fine tuning\n",
    "\n",
    "Step 1, 2, 3 etc."
   ]
  },
  {
   "cell_type": "code",
   "execution_count": null,
   "metadata": {},
   "outputs": [],
   "source": []
  },
  {
   "attachments": {},
   "cell_type": "markdown",
   "metadata": {},
   "source": [
    "Reference\n",
    "https://stackoverflow.com/questions/74000154/openai-gpt-3-api-how-do-i-make-sure-answers-are-from-a-customized-fine-tuning/75192794#75192794"
   ]
  }
 ],
 "metadata": {
  "language_info": {
   "name": "python"
  },
  "orig_nbformat": 4
 },
 "nbformat": 4,
 "nbformat_minor": 2
}
